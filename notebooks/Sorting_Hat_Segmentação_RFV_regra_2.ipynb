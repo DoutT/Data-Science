{
  "nbformat": 4,
  "nbformat_minor": 0,
  "metadata": {
    "colab": {
      "name": "Sorting Hat - Segmentação RFV_regra_2.ipynb",
      "provenance": [],
      "authorship_tag": "ABX9TyM1W35UpLDunUb6XbMhzQBw",
      "include_colab_link": true
    },
    "kernelspec": {
      "name": "python3",
      "display_name": "Python 3"
    }
  },
  "cells": [
    {
      "cell_type": "markdown",
      "metadata": {
        "id": "view-in-github",
        "colab_type": "text"
      },
      "source": [
        "<a href=\"https://colab.research.google.com/github/DoutT/Data-Science/blob/master/notebooks/Sorting_Hat_Segmenta%C3%A7%C3%A3o_RFV_regra_2.ipynb\" target=\"_parent\"><img src=\"https://colab.research.google.com/assets/colab-badge.svg\" alt=\"Open In Colab\"/></a>"
      ]
    },
    {
      "cell_type": "code",
      "metadata": {
        "id": "P-Y0vm93QggM"
      },
      "source": [
        "import pydata_google_auth.cache\n",
        "\n",
        "SCOPES = [\n",
        "    'https://www.googleapis.com/auth/cloud-platform',\n",
        "    'https://www.googleapis.com/auth/drive',\n",
        "]\n",
        "\n",
        "credentials = pydata_google_auth.get_user_credentials(\n",
        "    SCOPES,\n",
        ")"
      ],
      "execution_count": 72,
      "outputs": []
    },
    {
      "cell_type": "code",
      "metadata": {
        "colab": {
          "base_uri": "https://localhost:8080/"
        },
        "id": "8xq4a4ysRFEV",
        "outputId": "beb33e45-94d3-4575-f176-89a7c36b8e06"
      },
      "source": [
        "!pip install squarify"
      ],
      "execution_count": 73,
      "outputs": [
        {
          "output_type": "stream",
          "text": [
            "Requirement already satisfied: squarify in /usr/local/lib/python3.6/dist-packages (0.4.3)\n"
          ],
          "name": "stdout"
        }
      ]
    },
    {
      "cell_type": "code",
      "metadata": {
        "id": "fvPR2E5yRNSo"
      },
      "source": [
        "import pandas as pd\n",
        "import numpy as np\n",
        "import seaborn as sns\n",
        "from datetime import datetime, timedelta, date\n",
        "import os\n",
        "import sys\n",
        "import logging\n",
        "from google.oauth2 import service_account\n",
        "from google.cloud import bigquery\n",
        "from oauth2client.service_account import ServiceAccountCredentials\n",
        "import matplotlib.pyplot as plt\n",
        "import squarify\n",
        "\n",
        "os.environ[\"NLS_LANG\"] = \"Portuguese_Brazil.UTF8\"\n",
        "logger = logging.getLogger('pandas_gbq')\n",
        "logger.setLevel(logging.DEBUG)\n",
        "logger.addHandler(logging.StreamHandler())"
      ],
      "execution_count": 74,
      "outputs": []
    },
    {
      "cell_type": "code",
      "metadata": {
        "id": "oOhwWQ26RTY2"
      },
      "source": [
        "ecommerceSalesQuery = \"\"\"\n",
        "WITH sales_base as (\n",
        "\n",
        "SELECT\n",
        "    id,\n",
        "    creationDate,\n",
        "    total,\n",
        "    statusCode,\n",
        "    userId,\n",
        "    1 as isWeb,\n",
        "    CASE WHEN deliveryType = 'pickup' then 1 else 0 end as isPickup\n",
        "  FROM `projetoomni.ecommerce_postgres.orders`\n",
        "  WHERE statusCode BETWEEN 300 AND 320\n",
        "  AND creationDate >= '2018-01-01'\n",
        "  \n",
        "UNION ALL\n",
        "\n",
        "SELECT\n",
        "  id,\n",
        "  DATETIME(createdAt),\n",
        "  total,\n",
        "  320,\n",
        "  userId,\n",
        "  0,\n",
        "  0\n",
        "FROM `projetoomni.pix_read_replica.order`\n",
        "  WHERE deletedAt is null\n",
        "  AND createdAt >= '2018-01-01'\n",
        ")\n",
        " \n",
        "SELECT\n",
        "  site,\n",
        "  userId,\n",
        "  email,\n",
        "  DATE_DIFF(CURRENT_DATE(), DATE(users.createdAt), DAY) as user_age,\n",
        "  users.gender,\n",
        "  DATE_DIFF(CURRENT_DATE(), DATE(max(creationDate)), DAY) as recency,\n",
        "  count(creationDate) as frequency,\n",
        "  avg(total) / 100 as monetary,\n",
        "  CASE WHEN sum(isWeb) = count(o.id) AND sum(ispickup) < 1 THEN 'on'\n",
        "       WHEN sum(isWeb) < 1 THEN 'off'\n",
        "       ELSE 'omni' END as segment,\n",
        "  case when users.cpf is not null then 'cpf'\n",
        "       when users.cnpj is not null then 'cnpj' end as registro\n",
        "FROM sales_base o\n",
        "INNER JOIN `projetoomni.ecommerce_postgres.users` users\n",
        "ON o.userId = users.id\n",
        "WHERE site not in ('doramo', 'default')\n",
        "GROUP BY userId, user_age, gender, site, cpf, cnpj, email\n",
        "\"\"\" "
      ],
      "execution_count": 83,
      "outputs": []
    },
    {
      "cell_type": "code",
      "metadata": {
        "colab": {
          "base_uri": "https://localhost:8080/"
        },
        "id": "xLtEARekRXOY",
        "outputId": "d2d217ad-a260-4a56-b237-88d55763fa1c"
      },
      "source": [
        "# Load sales data\n",
        "dfEcommerceSalesData = pd.read_gbq(ecommerceSalesQuery, project_id=\"projetoomni\", credentials=credentials, dialect = \"standard\")"
      ],
      "execution_count": 81,
      "outputs": [
        {
          "output_type": "stream",
          "text": [
            "Requesting query... \n",
            "Requesting query... \n",
            "Query running...\n",
            "Query running...\n",
            "Job ID: c4109c45-db79-48e0-ae96-b7a6346b0236\n",
            "Job ID: c4109c45-db79-48e0-ae96-b7a6346b0236\n",
            "  Elapsed 6.79 s. Waiting...\n",
            "  Elapsed 6.79 s. Waiting...\n",
            "  Elapsed 7.88 s. Waiting...\n",
            "  Elapsed 7.88 s. Waiting...\n",
            "  Elapsed 8.95 s. Waiting...\n",
            "  Elapsed 8.95 s. Waiting...\n",
            "  Elapsed 10.01 s. Waiting...\n",
            "  Elapsed 10.01 s. Waiting...\n",
            "  Elapsed 11.09 s. Waiting...\n",
            "  Elapsed 11.09 s. Waiting...\n",
            "Query done.\n",
            "Processed: 776.7 MB Billed: 777.0 MB\n",
            "Query done.\n",
            "Processed: 776.7 MB Billed: 777.0 MB\n",
            "Standard price: $0.00 USD\n",
            "\n",
            "Standard price: $0.00 USD\n",
            "\n",
            "Got 1604118 rows.\n",
            "\n",
            "Got 1604118 rows.\n",
            "\n",
            "Total time taken 138.95 s.\n",
            "Finished at 2020-12-14 18:01:26.\n",
            "Total time taken 138.95 s.\n",
            "Finished at 2020-12-14 18:01:26.\n"
          ],
          "name": "stderr"
        }
      ]
    },
    {
      "cell_type": "code",
      "metadata": {
        "colab": {
          "base_uri": "https://localhost:8080/",
          "height": 204
        },
        "id": "jgV7Q3_sRbWT",
        "outputId": "89fcc5a9-eb1d-412b-9a48-dbb50650d18d"
      },
      "source": [
        "dfEcommerceSalesData.head()"
      ],
      "execution_count": 85,
      "outputs": [
        {
          "output_type": "execute_result",
          "data": {
            "text/html": [
              "<div>\n",
              "<style scoped>\n",
              "    .dataframe tbody tr th:only-of-type {\n",
              "        vertical-align: middle;\n",
              "    }\n",
              "\n",
              "    .dataframe tbody tr th {\n",
              "        vertical-align: top;\n",
              "    }\n",
              "\n",
              "    .dataframe thead th {\n",
              "        text-align: right;\n",
              "    }\n",
              "</style>\n",
              "<table border=\"1\" class=\"dataframe\">\n",
              "  <thead>\n",
              "    <tr style=\"text-align: right;\">\n",
              "      <th></th>\n",
              "      <th>site</th>\n",
              "      <th>userId</th>\n",
              "      <th>email</th>\n",
              "      <th>user_age</th>\n",
              "      <th>gender</th>\n",
              "      <th>recency</th>\n",
              "      <th>frequency</th>\n",
              "      <th>monetary</th>\n",
              "      <th>segment</th>\n",
              "      <th>registro</th>\n",
              "    </tr>\n",
              "  </thead>\n",
              "  <tbody>\n",
              "    <tr>\n",
              "      <th>0</th>\n",
              "      <td>artex</td>\n",
              "      <td>8932ecbc-f70c-49fd-af76-7e8a403f5b07</td>\n",
              "      <td>joisejuan@gmail.com</td>\n",
              "      <td>304</td>\n",
              "      <td>F</td>\n",
              "      <td>303</td>\n",
              "      <td>1</td>\n",
              "      <td>209.7</td>\n",
              "      <td>off</td>\n",
              "      <td>cpf</td>\n",
              "    </tr>\n",
              "    <tr>\n",
              "      <th>1</th>\n",
              "      <td>artex</td>\n",
              "      <td>b20896e8-95ca-4c43-a8a9-5c2e0cf92e0b</td>\n",
              "      <td>mesiasgilmar@hotmail.com</td>\n",
              "      <td>901</td>\n",
              "      <td>M</td>\n",
              "      <td>308</td>\n",
              "      <td>1</td>\n",
              "      <td>79.9</td>\n",
              "      <td>off</td>\n",
              "      <td>cpf</td>\n",
              "    </tr>\n",
              "    <tr>\n",
              "      <th>2</th>\n",
              "      <td>artex</td>\n",
              "      <td>107aa158-50ef-46ed-a678-c5cb4f45e35b</td>\n",
              "      <td>None</td>\n",
              "      <td>902</td>\n",
              "      <td>F</td>\n",
              "      <td>305</td>\n",
              "      <td>2</td>\n",
              "      <td>779.0</td>\n",
              "      <td>off</td>\n",
              "      <td>cpf</td>\n",
              "    </tr>\n",
              "    <tr>\n",
              "      <th>3</th>\n",
              "      <td>artex</td>\n",
              "      <td>6b0060be-6030-49b8-a05b-6705ce1b5c78</td>\n",
              "      <td>None</td>\n",
              "      <td>306</td>\n",
              "      <td>None</td>\n",
              "      <td>306</td>\n",
              "      <td>1</td>\n",
              "      <td>134.8</td>\n",
              "      <td>off</td>\n",
              "      <td>cpf</td>\n",
              "    </tr>\n",
              "    <tr>\n",
              "      <th>4</th>\n",
              "      <td>artex</td>\n",
              "      <td>74cf726e-7276-48e6-8b87-329541f95485</td>\n",
              "      <td>kellybalthazar@bol.com.br</td>\n",
              "      <td>456</td>\n",
              "      <td>None</td>\n",
              "      <td>30</td>\n",
              "      <td>2</td>\n",
              "      <td>379.7</td>\n",
              "      <td>omni</td>\n",
              "      <td>cpf</td>\n",
              "    </tr>\n",
              "  </tbody>\n",
              "</table>\n",
              "</div>"
            ],
            "text/plain": [
              "    site                                userId  ... segment  registro\n",
              "0  artex  8932ecbc-f70c-49fd-af76-7e8a403f5b07  ...     off       cpf\n",
              "1  artex  b20896e8-95ca-4c43-a8a9-5c2e0cf92e0b  ...     off       cpf\n",
              "2  artex  107aa158-50ef-46ed-a678-c5cb4f45e35b  ...     off       cpf\n",
              "3  artex  6b0060be-6030-49b8-a05b-6705ce1b5c78  ...     off       cpf\n",
              "4  artex  74cf726e-7276-48e6-8b87-329541f95485  ...    omni       cpf\n",
              "\n",
              "[5 rows x 10 columns]"
            ]
          },
          "metadata": {
            "tags": []
          },
          "execution_count": 85
        }
      ]
    },
    {
      "cell_type": "code",
      "metadata": {
        "id": "taGxL4KmReu4"
      },
      "source": [
        "data_process = dfEcommerceSalesData.copy() #.dropna()\n",
        "data_process['monetary'] = np.log1p(data_process['monetary'])"
      ],
      "execution_count": 86,
      "outputs": []
    },
    {
      "cell_type": "code",
      "metadata": {
        "id": "CcxrW_vNRx80"
      },
      "source": [
        "def getRFV(x):\n",
        "  # Create labels for Recency and Frequency\n",
        "  r_labels = range(1, 4)\n",
        "  f_labels = range(3, 0, -1)\n",
        "  m_labels = range(3, 0, -1)\n",
        "  a_labels = range(5, 0, -1)\n",
        "\n",
        "  # Assign these labels to 5 equal percentile groups \n",
        "  r_groups = pd.qcut(x['recency'].rank(method='first'),q=3, labels=r_labels).astype('int64')\n",
        "\n",
        "  # Assign these labels to 3 equal percentile groups \n",
        "  f_groups = x['frequency'].apply(lambda x: 1 if x >= 12 else\n",
        "                                  (3 if x < 6 else 2))\n",
        "  # Assign these labels to 5 equal percentile groups \n",
        "  m_groups = pd.qcut(x['monetary'].rank(method='first'), q=3, labels=m_labels).astype('int64')\n",
        "\n",
        "  data_process = x.assign(R = r_groups.values,\n",
        "                          F = f_groups.values,\n",
        "                          V = m_groups.values)\n",
        "  \n",
        "  data_process['score'] = data_process['R'] + data_process['F'] + data_process['V']\n",
        "\n",
        "  data_process['RFV'] = data_process['score'].apply(lambda x: 'A' if x <= 3 else\n",
        "                                                    ('C' if x >= 6 else 'B'))\n",
        "\n",
        "  return data_process"
      ],
      "execution_count": 106,
      "outputs": []
    },
    {
      "cell_type": "code",
      "metadata": {
        "colab": {
          "base_uri": "https://localhost:8080/",
          "height": 1000
        },
        "id": "0ZuCv22efQ-r",
        "outputId": "6910ed4f-55b0-4a1d-bbde-8f6c01df5be8"
      },
      "source": [
        "# df_temp = data_process[data_process['frequency'] < 10]\n",
        "# plt.figure(figsize=(10,16))\n",
        "# sns.distplot(df_temp['frequency'])"
      ],
      "execution_count": 104,
      "outputs": [
        {
          "output_type": "stream",
          "text": [
            "/usr/local/lib/python3.6/dist-packages/seaborn/distributions.py:2551: FutureWarning: `distplot` is a deprecated function and will be removed in a future version. Please adapt your code to use either `displot` (a figure-level function with similar flexibility) or `histplot` (an axes-level function for histograms).\n",
            "  warnings.warn(msg, FutureWarning)\n"
          ],
          "name": "stderr"
        },
        {
          "output_type": "execute_result",
          "data": {
            "text/plain": [
              "<matplotlib.axes._subplots.AxesSubplot at 0x7f6eac4b3c88>"
            ]
          },
          "metadata": {
            "tags": []
          },
          "execution_count": 104
        },
        {
          "output_type": "display_data",
          "data": {
            "image/png": "[encoded data removed]",
            "text/plain": [
              "<Figure size 720x1152 with 1 Axes>"
            ]
          },
          "metadata": {
            "tags": [],
            "needs_background": "light"
          }
        }
      ]
    },
    {
      "cell_type": "code",
      "metadata": {
        "id": "9vh1D97XS-hd"
      },
      "source": [
        "def listaFiltro(primeiro, segundo, terceiro):\n",
        "       return data_process.loc[data_process['site'] == primeiro].loc[data_process['segment'] == segundo].loc[data_process['registro'] == terceiro]"
      ],
      "execution_count": 107,
      "outputs": []
    },
    {
      "cell_type": "code",
      "metadata": {
        "id": "Pu7AehgiWBg8"
      },
      "source": [
        "df_ar_on_cpf = listaFiltro('artex', 'on', 'cpf')\n",
        "df_ar_off_cpf = listaFiltro('artex', 'off', 'cpf')\n",
        "df_ar_omni_cpf = listaFiltro('artex', 'omni', 'cpf')\n",
        "\n",
        "df_ar_on_cnpj = listaFiltro('artex', 'off', 'cnpj')\n",
        "df_ar_off_cnpj = listaFiltro('artex', 'off', 'cnpj')\n",
        "df_ar_omni_cnpj = listaFiltro('artex', 'off', 'cnpj')\n",
        "\n",
        "df_ma_on_cpf = listaFiltro('mmartan', 'on', 'cpf')\n",
        "df_ma_off_cpf = listaFiltro('mmartan', 'off', 'cpf')\n",
        "df_ma_omni_cpf = listaFiltro('mmartan', 'omni', 'cpf')\n",
        "\n",
        "df_ma_on_cnpj = listaFiltro('mmartan', 'on', 'cnpj')\n",
        "df_ma_off_cnpj = listaFiltro('mmartan', 'off', 'cnpj')\n",
        "df_ma_omni_cnpj = listaFiltro('mmartan', 'omni', 'cnpj')\n",
        "\n",
        "df_sa_on_cpf = listaFiltro('santista', 'on', 'cpf')\n",
        "df_sa_off_cpf = listaFiltro('santista', 'off', 'cpf')\n",
        "df_sa_omni_cpf = listaFiltro('santista', 'omni', 'cpf')\n",
        "\n",
        "df_sa_on_cnpj = listaFiltro('santista', 'on', 'cnpj')\n",
        "df_sa_off_cnpj = listaFiltro('santista', 'off', 'cnpj')\n",
        "df_sa_omni_cnpj = listaFiltro('santista', 'omni', 'cnpj')\n",
        "\n"
      ],
      "execution_count": 108,
      "outputs": []
    },
    {
      "cell_type": "code",
      "metadata": {
        "id": "FT_nYUYKZ8B6"
      },
      "source": [
        "df_ar_on_cpf = getRFV(df_ar_on_cpf)\n",
        "df_ar_off_cpf = getRFV(df_ar_off_cpf)\n",
        "df_ar_omni_cpf = getRFV(df_ar_omni_cpf)\n",
        "\n",
        "df_ar_on_cnpj = getRFV(df_ar_on_cnpj)\n",
        "df_ar_off_cnpj = getRFV(df_ar_off_cnpj)\n",
        "df_ar_omni_cnpj = getRFV(df_ar_omni_cnpj)\n",
        "\n",
        "df_ma_on_cpf = getRFV(df_ma_on_cpf)\n",
        "df_ma_off_cpf = getRFV(df_ma_off_cpf)\n",
        "df_ma_omni_cpf = getRFV(df_ma_omni_cpf)\n",
        "\n",
        "df_ma_on_cnpj = getRFV(df_ma_on_cnpj)\n",
        "df_ma_off_cnpj = getRFV(df_ma_off_cnpj)\n",
        "df_ma_omni_cnpj = getRFV(df_ma_omni_cnpj)\n",
        "\n",
        "df_sa_on_cpf = getRFV(df_sa_on_cpf)\n",
        "# df_sa_off_cpf = getRFV(df_sa_off_cpf)\n",
        "# df_sa_omni_cpf = getRFV(df_sa_omni_cpf)\n",
        "\n",
        "df_sa_on_cnpj = getRFV(df_sa_on_cnpj)\n",
        "# df_sa_off_cnpj = getRFV(df_sa_off_cnpj)\n",
        "# df_sa_omni_cnpj = getRFV(df_sa_omni_cnpj)\n"
      ],
      "execution_count": 109,
      "outputs": []
    },
    {
      "cell_type": "code",
      "metadata": {
        "colab": {
          "base_uri": "https://localhost:8080/",
          "height": 204
        },
        "id": "pyEwA_0tbjJP",
        "outputId": "aa134c5c-cf99-4a24-dd57-563b59da5b3b"
      },
      "source": [
        "df_ar_off_cpf.head()"
      ],
      "execution_count": 110,
      "outputs": [
        {
          "output_type": "execute_result",
          "data": {
            "text/html": [
              "<div>\n",
              "<style scoped>\n",
              "    .dataframe tbody tr th:only-of-type {\n",
              "        vertical-align: middle;\n",
              "    }\n",
              "\n",
              "    .dataframe tbody tr th {\n",
              "        vertical-align: top;\n",
              "    }\n",
              "\n",
              "    .dataframe thead th {\n",
              "        text-align: right;\n",
              "    }\n",
              "</style>\n",
              "<table border=\"1\" class=\"dataframe\">\n",
              "  <thead>\n",
              "    <tr style=\"text-align: right;\">\n",
              "      <th></th>\n",
              "      <th>site</th>\n",
              "      <th>userId</th>\n",
              "      <th>email</th>\n",
              "      <th>user_age</th>\n",
              "      <th>gender</th>\n",
              "      <th>recency</th>\n",
              "      <th>frequency</th>\n",
              "      <th>monetary</th>\n",
              "      <th>segment</th>\n",
              "      <th>registro</th>\n",
              "      <th>R</th>\n",
              "      <th>F</th>\n",
              "      <th>V</th>\n",
              "      <th>score</th>\n",
              "      <th>RFV</th>\n",
              "    </tr>\n",
              "  </thead>\n",
              "  <tbody>\n",
              "    <tr>\n",
              "      <th>0</th>\n",
              "      <td>artex</td>\n",
              "      <td>8932ecbc-f70c-49fd-af76-7e8a403f5b07</td>\n",
              "      <td>joisejuan@gmail.com</td>\n",
              "      <td>304</td>\n",
              "      <td>F</td>\n",
              "      <td>303</td>\n",
              "      <td>1</td>\n",
              "      <td>5.350435</td>\n",
              "      <td>off</td>\n",
              "      <td>cpf</td>\n",
              "      <td>2</td>\n",
              "      <td>3</td>\n",
              "      <td>2</td>\n",
              "      <td>7</td>\n",
              "      <td>C</td>\n",
              "    </tr>\n",
              "    <tr>\n",
              "      <th>1</th>\n",
              "      <td>artex</td>\n",
              "      <td>b20896e8-95ca-4c43-a8a9-5c2e0cf92e0b</td>\n",
              "      <td>mesiasgilmar@hotmail.com</td>\n",
              "      <td>901</td>\n",
              "      <td>M</td>\n",
              "      <td>308</td>\n",
              "      <td>1</td>\n",
              "      <td>4.393214</td>\n",
              "      <td>off</td>\n",
              "      <td>cpf</td>\n",
              "      <td>2</td>\n",
              "      <td>3</td>\n",
              "      <td>3</td>\n",
              "      <td>8</td>\n",
              "      <td>C</td>\n",
              "    </tr>\n",
              "    <tr>\n",
              "      <th>2</th>\n",
              "      <td>artex</td>\n",
              "      <td>107aa158-50ef-46ed-a678-c5cb4f45e35b</td>\n",
              "      <td>None</td>\n",
              "      <td>902</td>\n",
              "      <td>F</td>\n",
              "      <td>305</td>\n",
              "      <td>2</td>\n",
              "      <td>6.659294</td>\n",
              "      <td>off</td>\n",
              "      <td>cpf</td>\n",
              "      <td>2</td>\n",
              "      <td>3</td>\n",
              "      <td>1</td>\n",
              "      <td>6</td>\n",
              "      <td>C</td>\n",
              "    </tr>\n",
              "    <tr>\n",
              "      <th>3</th>\n",
              "      <td>artex</td>\n",
              "      <td>6b0060be-6030-49b8-a05b-6705ce1b5c78</td>\n",
              "      <td>None</td>\n",
              "      <td>306</td>\n",
              "      <td>None</td>\n",
              "      <td>306</td>\n",
              "      <td>1</td>\n",
              "      <td>4.911183</td>\n",
              "      <td>off</td>\n",
              "      <td>cpf</td>\n",
              "      <td>2</td>\n",
              "      <td>3</td>\n",
              "      <td>3</td>\n",
              "      <td>8</td>\n",
              "      <td>C</td>\n",
              "    </tr>\n",
              "    <tr>\n",
              "      <th>5</th>\n",
              "      <td>artex</td>\n",
              "      <td>68bdb38a-d924-430b-969f-d09d5dae80c4</td>\n",
              "      <td>antoniopereirasilva25@hotmail.com</td>\n",
              "      <td>299</td>\n",
              "      <td>F</td>\n",
              "      <td>299</td>\n",
              "      <td>1</td>\n",
              "      <td>6.041444</td>\n",
              "      <td>off</td>\n",
              "      <td>cpf</td>\n",
              "      <td>2</td>\n",
              "      <td>3</td>\n",
              "      <td>1</td>\n",
              "      <td>6</td>\n",
              "      <td>C</td>\n",
              "    </tr>\n",
              "  </tbody>\n",
              "</table>\n",
              "</div>"
            ],
            "text/plain": [
              "    site                                userId  ... score  RFV\n",
              "0  artex  8932ecbc-f70c-49fd-af76-7e8a403f5b07  ...     7    C\n",
              "1  artex  b20896e8-95ca-4c43-a8a9-5c2e0cf92e0b  ...     8    C\n",
              "2  artex  107aa158-50ef-46ed-a678-c5cb4f45e35b  ...     6    C\n",
              "3  artex  6b0060be-6030-49b8-a05b-6705ce1b5c78  ...     8    C\n",
              "5  artex  68bdb38a-d924-430b-969f-d09d5dae80c4  ...     6    C\n",
              "\n",
              "[5 rows x 15 columns]"
            ]
          },
          "metadata": {
            "tags": []
          },
          "execution_count": 110
        }
      ]
    },
    {
      "cell_type": "code",
      "metadata": {
        "id": "cPM1ZKw9o2Hr"
      },
      "source": [
        "df_results_artex = pd.concat([df_ar_on_cpf,\n",
        "                              df_ar_omni_cpf,\n",
        "                              df_ar_off_cpf,\n",
        "                              df_ar_on_cnpj,\n",
        "                              df_ar_off_cnpj,\n",
        "                              df_ar_omni_cnpj]\n",
        "                             ,ignore_index=True).sort_values(by=['RFV']).reset_index().drop(columns=['index'])\n",
        "\n",
        "\n",
        "df_results_mmartan = pd.concat([df_ma_on_cpf,\n",
        "                              df_ma_off_cpf,\n",
        "                              df_ma_omni_cpf,\n",
        "                              df_ma_on_cnpj,\n",
        "                              df_ma_off_cnpj,\n",
        "                              df_ma_omni_cnpj]\n",
        "                             ,ignore_index=True).sort_values(by=['RFV']).reset_index().drop(columns=['index']) \n",
        "\n",
        "\n",
        "df_results_santista = pd.concat([df_sa_on_cpf,\n",
        "                                df_sa_on_cnpj]\n",
        "                               ,ignore_index=True).sort_values(by=['RFV']).reset_index().drop(columns=['index']) \n",
        "\n"
      ],
      "execution_count": 122,
      "outputs": []
    },
    {
      "cell_type": "code",
      "metadata": {
        "colab": {
          "base_uri": "https://localhost:8080/",
          "height": 204
        },
        "id": "c4zpCxi4pz_t",
        "outputId": "ff3ffad3-8c60-4ada-9719-7e94ad7e942b"
      },
      "source": [
        "df_results_artex.head()"
      ],
      "execution_count": 123,
      "outputs": [
        {
          "output_type": "execute_result",
          "data": {
            "text/html": [
              "<div>\n",
              "<style scoped>\n",
              "    .dataframe tbody tr th:only-of-type {\n",
              "        vertical-align: middle;\n",
              "    }\n",
              "\n",
              "    .dataframe tbody tr th {\n",
              "        vertical-align: top;\n",
              "    }\n",
              "\n",
              "    .dataframe thead th {\n",
              "        text-align: right;\n",
              "    }\n",
              "</style>\n",
              "<table border=\"1\" class=\"dataframe\">\n",
              "  <thead>\n",
              "    <tr style=\"text-align: right;\">\n",
              "      <th></th>\n",
              "      <th>site</th>\n",
              "      <th>userId</th>\n",
              "      <th>email</th>\n",
              "      <th>user_age</th>\n",
              "      <th>gender</th>\n",
              "      <th>recency</th>\n",
              "      <th>frequency</th>\n",
              "      <th>monetary</th>\n",
              "      <th>segment</th>\n",
              "      <th>registro</th>\n",
              "      <th>R</th>\n",
              "      <th>F</th>\n",
              "      <th>V</th>\n",
              "      <th>score</th>\n",
              "      <th>RFV</th>\n",
              "    </tr>\n",
              "  </thead>\n",
              "  <tbody>\n",
              "    <tr>\n",
              "      <th>0</th>\n",
              "      <td>artex</td>\n",
              "      <td>2f0116a8-9c0f-4531-8082-f515f8713002</td>\n",
              "      <td>anacmcampos@msn.com</td>\n",
              "      <td>461</td>\n",
              "      <td>None</td>\n",
              "      <td>26</td>\n",
              "      <td>14</td>\n",
              "      <td>8.059614</td>\n",
              "      <td>omni</td>\n",
              "      <td>cpf</td>\n",
              "      <td>1</td>\n",
              "      <td>1</td>\n",
              "      <td>1</td>\n",
              "      <td>3</td>\n",
              "      <td>A</td>\n",
              "    </tr>\n",
              "    <tr>\n",
              "      <th>1</th>\n",
              "      <td>artex</td>\n",
              "      <td>4a2edcdd-2300-47fa-bb68-adcb5d8479ec</td>\n",
              "      <td>fatimamarinheiro@yahoo.com.br</td>\n",
              "      <td>881</td>\n",
              "      <td>F</td>\n",
              "      <td>64</td>\n",
              "      <td>20</td>\n",
              "      <td>8.080566</td>\n",
              "      <td>omni</td>\n",
              "      <td>cpf</td>\n",
              "      <td>1</td>\n",
              "      <td>1</td>\n",
              "      <td>1</td>\n",
              "      <td>3</td>\n",
              "      <td>A</td>\n",
              "    </tr>\n",
              "    <tr>\n",
              "      <th>2</th>\n",
              "      <td>artex</td>\n",
              "      <td>ef366370-f3b4-4101-9acb-47316fb7dfbd</td>\n",
              "      <td>gkellyvanessa2016@gmail.com</td>\n",
              "      <td>404</td>\n",
              "      <td>F</td>\n",
              "      <td>18</td>\n",
              "      <td>21</td>\n",
              "      <td>7.459828</td>\n",
              "      <td>off</td>\n",
              "      <td>cpf</td>\n",
              "      <td>1</td>\n",
              "      <td>1</td>\n",
              "      <td>1</td>\n",
              "      <td>3</td>\n",
              "      <td>A</td>\n",
              "    </tr>\n",
              "    <tr>\n",
              "      <th>3</th>\n",
              "      <td>artex</td>\n",
              "      <td>9e61eca0-cfb0-4612-a3bc-4e50b46876c0</td>\n",
              "      <td>angelamamelo@yahoo.com.br</td>\n",
              "      <td>932</td>\n",
              "      <td>None</td>\n",
              "      <td>55</td>\n",
              "      <td>23</td>\n",
              "      <td>8.763916</td>\n",
              "      <td>on</td>\n",
              "      <td>cpf</td>\n",
              "      <td>1</td>\n",
              "      <td>1</td>\n",
              "      <td>1</td>\n",
              "      <td>3</td>\n",
              "      <td>A</td>\n",
              "    </tr>\n",
              "    <tr>\n",
              "      <th>4</th>\n",
              "      <td>artex</td>\n",
              "      <td>d344c91f-a11c-4fad-8376-bec9b4e37ab0</td>\n",
              "      <td>anaantonelli@bol.com.br</td>\n",
              "      <td>1046</td>\n",
              "      <td>F</td>\n",
              "      <td>51</td>\n",
              "      <td>27</td>\n",
              "      <td>8.926128</td>\n",
              "      <td>omni</td>\n",
              "      <td>cpf</td>\n",
              "      <td>1</td>\n",
              "      <td>1</td>\n",
              "      <td>1</td>\n",
              "      <td>3</td>\n",
              "      <td>A</td>\n",
              "    </tr>\n",
              "  </tbody>\n",
              "</table>\n",
              "</div>"
            ],
            "text/plain": [
              "    site                                userId  ... score  RFV\n",
              "0  artex  2f0116a8-9c0f-4531-8082-f515f8713002  ...     3    A\n",
              "1  artex  4a2edcdd-2300-47fa-bb68-adcb5d8479ec  ...     3    A\n",
              "2  artex  ef366370-f3b4-4101-9acb-47316fb7dfbd  ...     3    A\n",
              "3  artex  9e61eca0-cfb0-4612-a3bc-4e50b46876c0  ...     3    A\n",
              "4  artex  d344c91f-a11c-4fad-8376-bec9b4e37ab0  ...     3    A\n",
              "\n",
              "[5 rows x 15 columns]"
            ]
          },
          "metadata": {
            "tags": []
          },
          "execution_count": 123
        }
      ]
    },
    {
      "cell_type": "code",
      "metadata": {
        "colab": {
          "base_uri": "https://localhost:8080/"
        },
        "id": "3gKa30Q5m24a",
        "outputId": "1b7ea3ed-323b-426b-beee-9a165cd6b98a"
      },
      "source": [
        "from google.colab import drive\n",
        "drive.mount('/content/drive')"
      ],
      "execution_count": 117,
      "outputs": [
        {
          "output_type": "stream",
          "text": [
            "Drive already mounted at /content/drive; to attempt to forcibly remount, call drive.mount(\"/content/drive\", force_remount=True).\n"
          ],
          "name": "stdout"
        }
      ]
    },
    {
      "cell_type": "code",
      "metadata": {
        "id": "o4yzAhEkorjv"
      },
      "source": [
        "# df_results.to_xlsx(r'./drive/My Drive/Colab Notebooks/estudo_rfv_2.xlsx', sheet_name='estudo_rfv_2', index = False)\n",
        "df_results_artex.to_csv(r'./drive/My Drive/Colab Notebooks/Estudo RFV/estudo_artex_rfv_2.csv',index=False)\n",
        "df_results_mmartan.to_csv(r'./drive/My Drive/Colab Notebooks/Estudo RFV/estudo_mmartan_rfv_2.csv',index=False)\n",
        "df_results_santista.to_csv(r'./drive/My Drive/Colab Notebooks/Estudo RFV/estudo_santista_rfv_2.csv',index=False)"
      ],
      "execution_count": 124,
      "outputs": []
    }
  ]
}